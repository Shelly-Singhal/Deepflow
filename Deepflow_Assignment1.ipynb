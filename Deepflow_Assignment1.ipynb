{
  "nbformat": 4,
  "nbformat_minor": 0,
  "metadata": {
    "colab": {
      "provenance": []
    },
    "kernelspec": {
      "name": "python3",
      "display_name": "Python 3"
    },
    "language_info": {
      "name": "python"
    }
  },
  "cells": [
    {
      "cell_type": "code",
      "execution_count": null,
      "metadata": {
        "id": "BvbQ-L1Ttj7w"
      },
      "outputs": [],
      "source": [
        "import numpy as np\n",
        "import pandas as pd\n",
        "import matplotlib.pyplot as plt"
      ]
    },
    {
      "cell_type": "markdown",
      "source": [
        "Load the Zomato dataset using Pandas."
      ],
      "metadata": {
        "id": "70cdcmQzvW0r"
      }
    },
    {
      "cell_type": "code",
      "source": [
        "df = pd.read_excel('data.xlsx')"
      ],
      "metadata": {
        "id": "M05maIE-uhCM"
      },
      "execution_count": null,
      "outputs": []
    },
    {
      "cell_type": "markdown",
      "source": [
        "Inspect the dataset and understand its structure."
      ],
      "metadata": {
        "id": "EP6VVnwVvUI9"
      }
    },
    {
      "cell_type": "code",
      "source": [
        "print(\"Info about the dataset:\")\n",
        "df.info()"
      ],
      "metadata": {
        "colab": {
          "base_uri": "https://localhost:8080/"
        },
        "id": "qic9T1_6u_5o",
        "outputId": "6211bea6-94bc-4339-a49e-f152bd3dc8b0"
      },
      "execution_count": null,
      "outputs": [
        {
          "output_type": "stream",
          "name": "stdout",
          "text": [
            "Info about the dataset:\n",
            "<class 'pandas.core.frame.DataFrame'>\n",
            "RangeIndex: 41263 entries, 0 to 41262\n",
            "Data columns (total 11 columns):\n",
            " #   Column                       Non-Null Count  Dtype  \n",
            "---  ------                       --------------  -----  \n",
            " 0   name                         41263 non-null  object \n",
            " 1   online_order                 41263 non-null  object \n",
            " 2   book_table                   41263 non-null  object \n",
            " 3   Rating                       41263 non-null  float64\n",
            " 4   votes                        41263 non-null  int64  \n",
            " 5   location                     41263 non-null  object \n",
            " 6   rest_type                    41263 non-null  object \n",
            " 7   cuisines                     41263 non-null  object \n",
            " 8   approx_cost(for two people)  41263 non-null  int64  \n",
            " 9   listed_in(type)              41263 non-null  object \n",
            " 10  listed_in(city)              41263 non-null  object \n",
            "dtypes: float64(1), int64(2), object(8)\n",
            "memory usage: 3.5+ MB\n"
          ]
        }
      ]
    },
    {
      "cell_type": "code",
      "source": [
        "print(\"Top five rows:\")\n",
        "df.head()"
      ],
      "metadata": {
        "colab": {
          "base_uri": "https://localhost:8080/",
          "height": 223
        },
        "id": "FIMSZm4rvd09",
        "outputId": "34dd9633-889b-4303-9236-acf2d8cd2a23"
      },
      "execution_count": null,
      "outputs": [
        {
          "output_type": "stream",
          "name": "stdout",
          "text": [
            "Top five rows:\n"
          ]
        },
        {
          "output_type": "execute_result",
          "data": {
            "text/plain": [
              "                    name online_order book_table  Rating  votes      location  \\\n",
              "0                  Jalsa          Yes        Yes     4.1    775  Banashankari   \n",
              "1         Spice Elephant          Yes         No     4.1    787  Banashankari   \n",
              "2        San Churro Cafe          Yes         No     3.8    918  Banashankari   \n",
              "3  Addhuri Udupi Bhojana           No         No     3.7     88  Banashankari   \n",
              "4          Grand Village           No         No     3.8    166  Basavanagudi   \n",
              "\n",
              "             rest_type                        cuisines  \\\n",
              "0        Casual Dining  North Indian, Mughlai, Chinese   \n",
              "1        Casual Dining     Chinese, North Indian, Thai   \n",
              "2  Cafe, Casual Dining          Cafe, Mexican, Italian   \n",
              "3          Quick Bites      South Indian, North Indian   \n",
              "4        Casual Dining        North Indian, Rajasthani   \n",
              "\n",
              "   approx_cost(for two people) listed_in(type) listed_in(city)  \n",
              "0                          800          Buffet    Banashankari  \n",
              "1                          800          Buffet    Banashankari  \n",
              "2                          800          Buffet    Banashankari  \n",
              "3                          300          Buffet    Banashankari  \n",
              "4                          600          Buffet    Banashankari  "
            ],
            "text/html": [
              "\n",
              "  <div id=\"df-e3977683-fe9e-417d-97a6-1a52ea0caf05\" class=\"colab-df-container\">\n",
              "    <div>\n",
              "<style scoped>\n",
              "    .dataframe tbody tr th:only-of-type {\n",
              "        vertical-align: middle;\n",
              "    }\n",
              "\n",
              "    .dataframe tbody tr th {\n",
              "        vertical-align: top;\n",
              "    }\n",
              "\n",
              "    .dataframe thead th {\n",
              "        text-align: right;\n",
              "    }\n",
              "</style>\n",
              "<table border=\"1\" class=\"dataframe\">\n",
              "  <thead>\n",
              "    <tr style=\"text-align: right;\">\n",
              "      <th></th>\n",
              "      <th>name</th>\n",
              "      <th>online_order</th>\n",
              "      <th>book_table</th>\n",
              "      <th>Rating</th>\n",
              "      <th>votes</th>\n",
              "      <th>location</th>\n",
              "      <th>rest_type</th>\n",
              "      <th>cuisines</th>\n",
              "      <th>approx_cost(for two people)</th>\n",
              "      <th>listed_in(type)</th>\n",
              "      <th>listed_in(city)</th>\n",
              "    </tr>\n",
              "  </thead>\n",
              "  <tbody>\n",
              "    <tr>\n",
              "      <th>0</th>\n",
              "      <td>Jalsa</td>\n",
              "      <td>Yes</td>\n",
              "      <td>Yes</td>\n",
              "      <td>4.1</td>\n",
              "      <td>775</td>\n",
              "      <td>Banashankari</td>\n",
              "      <td>Casual Dining</td>\n",
              "      <td>North Indian, Mughlai, Chinese</td>\n",
              "      <td>800</td>\n",
              "      <td>Buffet</td>\n",
              "      <td>Banashankari</td>\n",
              "    </tr>\n",
              "    <tr>\n",
              "      <th>1</th>\n",
              "      <td>Spice Elephant</td>\n",
              "      <td>Yes</td>\n",
              "      <td>No</td>\n",
              "      <td>4.1</td>\n",
              "      <td>787</td>\n",
              "      <td>Banashankari</td>\n",
              "      <td>Casual Dining</td>\n",
              "      <td>Chinese, North Indian, Thai</td>\n",
              "      <td>800</td>\n",
              "      <td>Buffet</td>\n",
              "      <td>Banashankari</td>\n",
              "    </tr>\n",
              "    <tr>\n",
              "      <th>2</th>\n",
              "      <td>San Churro Cafe</td>\n",
              "      <td>Yes</td>\n",
              "      <td>No</td>\n",
              "      <td>3.8</td>\n",
              "      <td>918</td>\n",
              "      <td>Banashankari</td>\n",
              "      <td>Cafe, Casual Dining</td>\n",
              "      <td>Cafe, Mexican, Italian</td>\n",
              "      <td>800</td>\n",
              "      <td>Buffet</td>\n",
              "      <td>Banashankari</td>\n",
              "    </tr>\n",
              "    <tr>\n",
              "      <th>3</th>\n",
              "      <td>Addhuri Udupi Bhojana</td>\n",
              "      <td>No</td>\n",
              "      <td>No</td>\n",
              "      <td>3.7</td>\n",
              "      <td>88</td>\n",
              "      <td>Banashankari</td>\n",
              "      <td>Quick Bites</td>\n",
              "      <td>South Indian, North Indian</td>\n",
              "      <td>300</td>\n",
              "      <td>Buffet</td>\n",
              "      <td>Banashankari</td>\n",
              "    </tr>\n",
              "    <tr>\n",
              "      <th>4</th>\n",
              "      <td>Grand Village</td>\n",
              "      <td>No</td>\n",
              "      <td>No</td>\n",
              "      <td>3.8</td>\n",
              "      <td>166</td>\n",
              "      <td>Basavanagudi</td>\n",
              "      <td>Casual Dining</td>\n",
              "      <td>North Indian, Rajasthani</td>\n",
              "      <td>600</td>\n",
              "      <td>Buffet</td>\n",
              "      <td>Banashankari</td>\n",
              "    </tr>\n",
              "  </tbody>\n",
              "</table>\n",
              "</div>\n",
              "    <div class=\"colab-df-buttons\">\n",
              "\n",
              "  <div class=\"colab-df-container\">\n",
              "    <button class=\"colab-df-convert\" onclick=\"convertToInteractive('df-e3977683-fe9e-417d-97a6-1a52ea0caf05')\"\n",
              "            title=\"Convert this dataframe to an interactive table.\"\n",
              "            style=\"display:none;\">\n",
              "\n",
              "  <svg xmlns=\"http://www.w3.org/2000/svg\" height=\"24px\" viewBox=\"0 -960 960 960\">\n",
              "    <path d=\"M120-120v-720h720v720H120Zm60-500h600v-160H180v160Zm220 220h160v-160H400v160Zm0 220h160v-160H400v160ZM180-400h160v-160H180v160Zm440 0h160v-160H620v160ZM180-180h160v-160H180v160Zm440 0h160v-160H620v160Z\"/>\n",
              "  </svg>\n",
              "    </button>\n",
              "\n",
              "  <style>\n",
              "    .colab-df-container {\n",
              "      display:flex;\n",
              "      gap: 12px;\n",
              "    }\n",
              "\n",
              "    .colab-df-convert {\n",
              "      background-color: #E8F0FE;\n",
              "      border: none;\n",
              "      border-radius: 50%;\n",
              "      cursor: pointer;\n",
              "      display: none;\n",
              "      fill: #1967D2;\n",
              "      height: 32px;\n",
              "      padding: 0 0 0 0;\n",
              "      width: 32px;\n",
              "    }\n",
              "\n",
              "    .colab-df-convert:hover {\n",
              "      background-color: #E2EBFA;\n",
              "      box-shadow: 0px 1px 2px rgba(60, 64, 67, 0.3), 0px 1px 3px 1px rgba(60, 64, 67, 0.15);\n",
              "      fill: #174EA6;\n",
              "    }\n",
              "\n",
              "    .colab-df-buttons div {\n",
              "      margin-bottom: 4px;\n",
              "    }\n",
              "\n",
              "    [theme=dark] .colab-df-convert {\n",
              "      background-color: #3B4455;\n",
              "      fill: #D2E3FC;\n",
              "    }\n",
              "\n",
              "    [theme=dark] .colab-df-convert:hover {\n",
              "      background-color: #434B5C;\n",
              "      box-shadow: 0px 1px 3px 1px rgba(0, 0, 0, 0.15);\n",
              "      filter: drop-shadow(0px 1px 2px rgba(0, 0, 0, 0.3));\n",
              "      fill: #FFFFFF;\n",
              "    }\n",
              "  </style>\n",
              "\n",
              "    <script>\n",
              "      const buttonEl =\n",
              "        document.querySelector('#df-e3977683-fe9e-417d-97a6-1a52ea0caf05 button.colab-df-convert');\n",
              "      buttonEl.style.display =\n",
              "        google.colab.kernel.accessAllowed ? 'block' : 'none';\n",
              "\n",
              "      async function convertToInteractive(key) {\n",
              "        const element = document.querySelector('#df-e3977683-fe9e-417d-97a6-1a52ea0caf05');\n",
              "        const dataTable =\n",
              "          await google.colab.kernel.invokeFunction('convertToInteractive',\n",
              "                                                    [key], {});\n",
              "        if (!dataTable) return;\n",
              "\n",
              "        const docLinkHtml = 'Like what you see? Visit the ' +\n",
              "          '<a target=\"_blank\" href=https://colab.research.google.com/notebooks/data_table.ipynb>data table notebook</a>'\n",
              "          + ' to learn more about interactive tables.';\n",
              "        element.innerHTML = '';\n",
              "        dataTable['output_type'] = 'display_data';\n",
              "        await google.colab.output.renderOutput(dataTable, element);\n",
              "        const docLink = document.createElement('div');\n",
              "        docLink.innerHTML = docLinkHtml;\n",
              "        element.appendChild(docLink);\n",
              "      }\n",
              "    </script>\n",
              "  </div>\n",
              "\n",
              "\n",
              "    <div id=\"df-5a3f9bde-9636-4b79-8bf2-b2d859111b3f\">\n",
              "      <button class=\"colab-df-quickchart\" onclick=\"quickchart('df-5a3f9bde-9636-4b79-8bf2-b2d859111b3f')\"\n",
              "                title=\"Suggest charts\"\n",
              "                style=\"display:none;\">\n",
              "\n",
              "<svg xmlns=\"http://www.w3.org/2000/svg\" height=\"24px\"viewBox=\"0 0 24 24\"\n",
              "     width=\"24px\">\n",
              "    <g>\n",
              "        <path d=\"M19 3H5c-1.1 0-2 .9-2 2v14c0 1.1.9 2 2 2h14c1.1 0 2-.9 2-2V5c0-1.1-.9-2-2-2zM9 17H7v-7h2v7zm4 0h-2V7h2v10zm4 0h-2v-4h2v4z\"/>\n",
              "    </g>\n",
              "</svg>\n",
              "      </button>\n",
              "\n",
              "<style>\n",
              "  .colab-df-quickchart {\n",
              "      --bg-color: #E8F0FE;\n",
              "      --fill-color: #1967D2;\n",
              "      --hover-bg-color: #E2EBFA;\n",
              "      --hover-fill-color: #174EA6;\n",
              "      --disabled-fill-color: #AAA;\n",
              "      --disabled-bg-color: #DDD;\n",
              "  }\n",
              "\n",
              "  [theme=dark] .colab-df-quickchart {\n",
              "      --bg-color: #3B4455;\n",
              "      --fill-color: #D2E3FC;\n",
              "      --hover-bg-color: #434B5C;\n",
              "      --hover-fill-color: #FFFFFF;\n",
              "      --disabled-bg-color: #3B4455;\n",
              "      --disabled-fill-color: #666;\n",
              "  }\n",
              "\n",
              "  .colab-df-quickchart {\n",
              "    background-color: var(--bg-color);\n",
              "    border: none;\n",
              "    border-radius: 50%;\n",
              "    cursor: pointer;\n",
              "    display: none;\n",
              "    fill: var(--fill-color);\n",
              "    height: 32px;\n",
              "    padding: 0;\n",
              "    width: 32px;\n",
              "  }\n",
              "\n",
              "  .colab-df-quickchart:hover {\n",
              "    background-color: var(--hover-bg-color);\n",
              "    box-shadow: 0 1px 2px rgba(60, 64, 67, 0.3), 0 1px 3px 1px rgba(60, 64, 67, 0.15);\n",
              "    fill: var(--button-hover-fill-color);\n",
              "  }\n",
              "\n",
              "  .colab-df-quickchart-complete:disabled,\n",
              "  .colab-df-quickchart-complete:disabled:hover {\n",
              "    background-color: var(--disabled-bg-color);\n",
              "    fill: var(--disabled-fill-color);\n",
              "    box-shadow: none;\n",
              "  }\n",
              "\n",
              "  .colab-df-spinner {\n",
              "    border: 2px solid var(--fill-color);\n",
              "    border-color: transparent;\n",
              "    border-bottom-color: var(--fill-color);\n",
              "    animation:\n",
              "      spin 1s steps(1) infinite;\n",
              "  }\n",
              "\n",
              "  @keyframes spin {\n",
              "    0% {\n",
              "      border-color: transparent;\n",
              "      border-bottom-color: var(--fill-color);\n",
              "      border-left-color: var(--fill-color);\n",
              "    }\n",
              "    20% {\n",
              "      border-color: transparent;\n",
              "      border-left-color: var(--fill-color);\n",
              "      border-top-color: var(--fill-color);\n",
              "    }\n",
              "    30% {\n",
              "      border-color: transparent;\n",
              "      border-left-color: var(--fill-color);\n",
              "      border-top-color: var(--fill-color);\n",
              "      border-right-color: var(--fill-color);\n",
              "    }\n",
              "    40% {\n",
              "      border-color: transparent;\n",
              "      border-right-color: var(--fill-color);\n",
              "      border-top-color: var(--fill-color);\n",
              "    }\n",
              "    60% {\n",
              "      border-color: transparent;\n",
              "      border-right-color: var(--fill-color);\n",
              "    }\n",
              "    80% {\n",
              "      border-color: transparent;\n",
              "      border-right-color: var(--fill-color);\n",
              "      border-bottom-color: var(--fill-color);\n",
              "    }\n",
              "    90% {\n",
              "      border-color: transparent;\n",
              "      border-bottom-color: var(--fill-color);\n",
              "    }\n",
              "  }\n",
              "</style>\n",
              "\n",
              "      <script>\n",
              "        async function quickchart(key) {\n",
              "          const quickchartButtonEl =\n",
              "            document.querySelector('#' + key + ' button');\n",
              "          quickchartButtonEl.disabled = true;  // To prevent multiple clicks.\n",
              "          quickchartButtonEl.classList.add('colab-df-spinner');\n",
              "          try {\n",
              "            const charts = await google.colab.kernel.invokeFunction(\n",
              "                'suggestCharts', [key], {});\n",
              "          } catch (error) {\n",
              "            console.error('Error during call to suggestCharts:', error);\n",
              "          }\n",
              "          quickchartButtonEl.classList.remove('colab-df-spinner');\n",
              "          quickchartButtonEl.classList.add('colab-df-quickchart-complete');\n",
              "        }\n",
              "        (() => {\n",
              "          let quickchartButtonEl =\n",
              "            document.querySelector('#df-5a3f9bde-9636-4b79-8bf2-b2d859111b3f button');\n",
              "          quickchartButtonEl.style.display =\n",
              "            google.colab.kernel.accessAllowed ? 'block' : 'none';\n",
              "        })();\n",
              "      </script>\n",
              "    </div>\n",
              "\n",
              "    </div>\n",
              "  </div>\n"
            ],
            "application/vnd.google.colaboratory.intrinsic+json": {
              "type": "dataframe",
              "variable_name": "df",
              "summary": "{\n  \"name\": \"df\",\n  \"rows\": 41263,\n  \"fields\": [\n    {\n      \"column\": \"name\",\n      \"properties\": {\n        \"dtype\": \"category\",\n        \"num_unique_values\": 6602,\n        \"samples\": [\n          \"Just Baked\",\n          \"Go Italia\",\n          \"Biryani Trip\"\n        ],\n        \"semantic_type\": \"\",\n        \"description\": \"\"\n      }\n    },\n    {\n      \"column\": \"online_order\",\n      \"properties\": {\n        \"dtype\": \"category\",\n        \"num_unique_values\": 2,\n        \"samples\": [\n          \"No\",\n          \"Yes\"\n        ],\n        \"semantic_type\": \"\",\n        \"description\": \"\"\n      }\n    },\n    {\n      \"column\": \"book_table\",\n      \"properties\": {\n        \"dtype\": \"category\",\n        \"num_unique_values\": 2,\n        \"samples\": [\n          \"No\",\n          \"Yes\"\n        ],\n        \"semantic_type\": \"\",\n        \"description\": \"\"\n      }\n    },\n    {\n      \"column\": \"Rating\",\n      \"properties\": {\n        \"dtype\": \"number\",\n        \"std\": 0.4399848484044941,\n        \"min\": 1.8,\n        \"max\": 4.9,\n        \"num_unique_values\": 31,\n        \"samples\": [\n          4.9,\n          2.9\n        ],\n        \"semantic_type\": \"\",\n        \"description\": \"\"\n      }\n    },\n    {\n      \"column\": \"votes\",\n      \"properties\": {\n        \"dtype\": \"number\",\n        \"std\": 884,\n        \"min\": 0,\n        \"max\": 16832,\n        \"num_unique_values\": 2323,\n        \"samples\": [\n          9064,\n          1216\n        ],\n        \"semantic_type\": \"\",\n        \"description\": \"\"\n      }\n    },\n    {\n      \"column\": \"location\",\n      \"properties\": {\n        \"dtype\": \"category\",\n        \"num_unique_values\": 92,\n        \"samples\": [\n          \"Cunningham Road\",\n          \"Bellandur\"\n        ],\n        \"semantic_type\": \"\",\n        \"description\": \"\"\n      }\n    },\n    {\n      \"column\": \"rest_type\",\n      \"properties\": {\n        \"dtype\": \"category\",\n        \"num_unique_values\": 87,\n        \"samples\": [\n          \"Cafe, Lounge\",\n          \"Casual Dining\"\n        ],\n        \"semantic_type\": \"\",\n        \"description\": \"\"\n      }\n    },\n    {\n      \"column\": \"cuisines\",\n      \"properties\": {\n        \"dtype\": \"category\",\n        \"num_unique_values\": 2367,\n        \"samples\": [\n          \"Chinese, Beverages, Street Food\",\n          \"Cafe, Bakery, Fast Food, Desserts\"\n        ],\n        \"semantic_type\": \"\",\n        \"description\": \"\"\n      }\n    },\n    {\n      \"column\": \"approx_cost(for two people)\",\n      \"properties\": {\n        \"dtype\": \"number\",\n        \"std\": 464,\n        \"min\": 40,\n        \"max\": 6000,\n        \"num_unique_values\": 63,\n        \"samples\": [\n          4500,\n          5000\n        ],\n        \"semantic_type\": \"\",\n        \"description\": \"\"\n      }\n    },\n    {\n      \"column\": \"listed_in(type)\",\n      \"properties\": {\n        \"dtype\": \"category\",\n        \"num_unique_values\": 7,\n        \"samples\": [\n          \"Buffet\",\n          \"Cafes\"\n        ],\n        \"semantic_type\": \"\",\n        \"description\": \"\"\n      }\n    },\n    {\n      \"column\": \"listed_in(city)\",\n      \"properties\": {\n        \"dtype\": \"category\",\n        \"num_unique_values\": 30,\n        \"samples\": [\n          \"Residency Road\",\n          \"Kammanahalli\"\n        ],\n        \"semantic_type\": \"\",\n        \"description\": \"\"\n      }\n    }\n  ]\n}"
            }
          },
          "metadata": {},
          "execution_count": 69
        }
      ]
    },
    {
      "cell_type": "code",
      "source": [
        "print(\"Shape of the dataset:\")\n",
        "df.shape"
      ],
      "metadata": {
        "colab": {
          "base_uri": "https://localhost:8080/"
        },
        "id": "j8kETElQvjf_",
        "outputId": "4a4ef938-4add-41ae-a9eb-82aae3a004fd"
      },
      "execution_count": null,
      "outputs": [
        {
          "output_type": "stream",
          "name": "stdout",
          "text": [
            "Shape of the dataset:\n"
          ]
        },
        {
          "output_type": "execute_result",
          "data": {
            "text/plain": [
              "(41263, 11)"
            ]
          },
          "metadata": {},
          "execution_count": 70
        }
      ]
    },
    {
      "cell_type": "code",
      "source": [
        "print(\"Column Names:\")\n",
        "df.columns"
      ],
      "metadata": {
        "colab": {
          "base_uri": "https://localhost:8080/"
        },
        "id": "t36TXRsAvv60",
        "outputId": "e9c1ee3a-038e-4ff0-e258-3e432917a99b"
      },
      "execution_count": null,
      "outputs": [
        {
          "output_type": "stream",
          "name": "stdout",
          "text": [
            "Column Names:\n"
          ]
        },
        {
          "output_type": "execute_result",
          "data": {
            "text/plain": [
              "Index(['name', 'online_order', 'book_table', 'Rating', 'votes', 'location',\n",
              "       'rest_type', 'cuisines', 'approx_cost(for two people)',\n",
              "       'listed_in(type)', 'listed_in(city)'],\n",
              "      dtype='object')"
            ]
          },
          "metadata": {},
          "execution_count": 71
        }
      ]
    },
    {
      "cell_type": "markdown",
      "source": [
        "Handle missing values appropriately."
      ],
      "metadata": {
        "id": "LIQwrUnSwM8Z"
      }
    },
    {
      "cell_type": "code",
      "source": [
        "df.isnull().sum()"
      ],
      "metadata": {
        "colab": {
          "base_uri": "https://localhost:8080/",
          "height": 429
        },
        "id": "f2rCal8zwML7",
        "outputId": "0dee9be0-5f2a-4490-a783-edf6f0aed88b"
      },
      "execution_count": null,
      "outputs": [
        {
          "output_type": "execute_result",
          "data": {
            "text/plain": [
              "name                           0\n",
              "online_order                   0\n",
              "book_table                     0\n",
              "Rating                         0\n",
              "votes                          0\n",
              "location                       0\n",
              "rest_type                      0\n",
              "cuisines                       0\n",
              "approx_cost(for two people)    0\n",
              "listed_in(type)                0\n",
              "listed_in(city)                0\n",
              "dtype: int64"
            ],
            "text/html": [
              "<div>\n",
              "<style scoped>\n",
              "    .dataframe tbody tr th:only-of-type {\n",
              "        vertical-align: middle;\n",
              "    }\n",
              "\n",
              "    .dataframe tbody tr th {\n",
              "        vertical-align: top;\n",
              "    }\n",
              "\n",
              "    .dataframe thead th {\n",
              "        text-align: right;\n",
              "    }\n",
              "</style>\n",
              "<table border=\"1\" class=\"dataframe\">\n",
              "  <thead>\n",
              "    <tr style=\"text-align: right;\">\n",
              "      <th></th>\n",
              "      <th>0</th>\n",
              "    </tr>\n",
              "  </thead>\n",
              "  <tbody>\n",
              "    <tr>\n",
              "      <th>name</th>\n",
              "      <td>0</td>\n",
              "    </tr>\n",
              "    <tr>\n",
              "      <th>online_order</th>\n",
              "      <td>0</td>\n",
              "    </tr>\n",
              "    <tr>\n",
              "      <th>book_table</th>\n",
              "      <td>0</td>\n",
              "    </tr>\n",
              "    <tr>\n",
              "      <th>Rating</th>\n",
              "      <td>0</td>\n",
              "    </tr>\n",
              "    <tr>\n",
              "      <th>votes</th>\n",
              "      <td>0</td>\n",
              "    </tr>\n",
              "    <tr>\n",
              "      <th>location</th>\n",
              "      <td>0</td>\n",
              "    </tr>\n",
              "    <tr>\n",
              "      <th>rest_type</th>\n",
              "      <td>0</td>\n",
              "    </tr>\n",
              "    <tr>\n",
              "      <th>cuisines</th>\n",
              "      <td>0</td>\n",
              "    </tr>\n",
              "    <tr>\n",
              "      <th>approx_cost(for two people)</th>\n",
              "      <td>0</td>\n",
              "    </tr>\n",
              "    <tr>\n",
              "      <th>listed_in(type)</th>\n",
              "      <td>0</td>\n",
              "    </tr>\n",
              "    <tr>\n",
              "      <th>listed_in(city)</th>\n",
              "      <td>0</td>\n",
              "    </tr>\n",
              "  </tbody>\n",
              "</table>\n",
              "</div><br><label><b>dtype:</b> int64</label>"
            ]
          },
          "metadata": {},
          "execution_count": 72
        }
      ]
    },
    {
      "cell_type": "code",
      "source": [
        "if df.isnull().sum().sum()==0:\n",
        "    print(\"No missing values\")\n",
        "else:\n",
        "    print(\"There are missing values\")"
      ],
      "metadata": {
        "colab": {
          "base_uri": "https://localhost:8080/"
        },
        "id": "jFfDiLjIwJke",
        "outputId": "0a18bd1d-c815-4803-d374-d146afa56bc5"
      },
      "execution_count": null,
      "outputs": [
        {
          "output_type": "stream",
          "name": "stdout",
          "text": [
            "No missing values\n"
          ]
        }
      ]
    },
    {
      "cell_type": "markdown",
      "source": [
        "Remove duplicate entries."
      ],
      "metadata": {
        "id": "Wydm3EXTxwDB"
      }
    },
    {
      "cell_type": "code",
      "source": [
        "df.duplicated().sum()"
      ],
      "metadata": {
        "colab": {
          "base_uri": "https://localhost:8080/"
        },
        "id": "ZbVs0w71x0I0",
        "outputId": "a80d6ea1-fdb0-46ad-a0f2-2e99ba8fc32e"
      },
      "execution_count": null,
      "outputs": [
        {
          "output_type": "execute_result",
          "data": {
            "text/plain": [
              "np.int64(73)"
            ]
          },
          "metadata": {},
          "execution_count": 74
        }
      ]
    },
    {
      "cell_type": "code",
      "source": [
        "df = df.drop_duplicates()\n",
        "df.duplicated().sum()"
      ],
      "metadata": {
        "colab": {
          "base_uri": "https://localhost:8080/"
        },
        "id": "VXQadxlFyPYW",
        "outputId": "766b8e9e-64ec-4b3d-a454-8dacd859b53f"
      },
      "execution_count": null,
      "outputs": [
        {
          "output_type": "execute_result",
          "data": {
            "text/plain": [
              "np.int64(0)"
            ]
          },
          "metadata": {},
          "execution_count": 75
        }
      ]
    },
    {
      "cell_type": "markdown",
      "source": [
        "Correct inconsistent data formats and Standardise key columns."
      ],
      "metadata": {
        "id": "jwj_VgoHyby7"
      }
    },
    {
      "cell_type": "code",
      "source": [
        "df['cuisines'] = df['cuisines'].str.strip().str.replace(r\"\\s+\", \" \", regex=True).str.title()\n",
        "df['approx_cost(for two people)'] = df['approx_cost(for two people)'].astype(str).str.strip()\n",
        "cols_to_clean = ['listed_in(city)', 'online_order', 'name', 'book_table','listed_in(type)','Rating','votes']\n",
        "df[cols_to_clean] = df[cols_to_clean].astype(str).apply(lambda col: col.str.strip().str.title())"
      ],
      "metadata": {
        "id": "WfzeQiSiyp_f"
      },
      "execution_count": null,
      "outputs": []
    },
    {
      "cell_type": "code",
      "source": [
        "def standardize_location(name):\n",
        "    abbreviations = {'btm': 'BTM', 'hsr': 'HSR', 'mg road': 'MG Road', 'jp nagar': 'JP Nagar',\n",
        "                     'new bel road': 'New BEL Road', 'old airport road': 'Old Airport Road'}\n",
        "    lowered = name.lower()\n",
        "    if lowered in abbreviations:\n",
        "        return abbreviations[lowered]\n",
        "    return name.title()\n",
        "\n",
        "df['listed_in(city)'] = df['listed_in(city)'].apply(standardize_location)\n",
        "df['listed_in(city)'].unique() #no invalid format"
      ],
      "metadata": {
        "colab": {
          "base_uri": "https://localhost:8080/"
        },
        "id": "DyGya3f-HyjS",
        "outputId": "a0cdbf2f-c1a6-4e91-ad33-07e15c363930"
      },
      "execution_count": null,
      "outputs": [
        {
          "output_type": "execute_result",
          "data": {
            "text/plain": [
              "array(['Banashankari', 'Bannerghatta Road', 'Basavanagudi', 'Bellandur',\n",
              "       'Brigade Road', 'Brookefield', 'BTM', 'Church Street',\n",
              "       'Electronic City', 'Frazer Town', 'HSR', 'Indiranagar',\n",
              "       'Jayanagar', 'JP Nagar', 'Kalyan Nagar', 'Kammanahalli',\n",
              "       'Koramangala 4Th Block', 'Koramangala 5Th Block',\n",
              "       'Koramangala 6Th Block', 'Koramangala 7Th Block', 'Lavelle Road',\n",
              "       'Malleshwaram', 'Marathahalli', 'MG Road', 'New BEL Road',\n",
              "       'Old Airport Road', 'Rajajinagar', 'Residency Road',\n",
              "       'Sarjapur Road', 'Whitefield'], dtype=object)"
            ]
          },
          "metadata": {},
          "execution_count": 93
        }
      ]
    },
    {
      "cell_type": "code",
      "source": [
        "df_expand = df.copy()\n",
        "df_expand['cuisines'] = df_expand['cuisines'].str.split(',')\n",
        "df_expand=df_expand.explode('cuisines')\n",
        "df_expand['cuisines'] = df_expand['cuisines'].str.strip()\n",
        "unique_cuisines = df_expand['cuisines'].dropna().unique()\n",
        "unique_cuisines.sort()\n",
        "print(list(unique_cuisines))"
      ],
      "metadata": {
        "colab": {
          "base_uri": "https://localhost:8080/"
        },
        "id": "SyVyuhXcHpRL",
        "outputId": "fea0d533-23cc-49ba-9045-52244910defd"
      },
      "execution_count": null,
      "outputs": [
        {
          "output_type": "stream",
          "name": "stdout",
          "text": [
            "['Afghan', 'Afghani', 'African', 'American', 'Andhra', 'Arabian', 'Asian', 'Assamese', 'Australian', 'Awadhi', 'Bakery', 'Bar Food', 'Bbq', 'Belgian', 'Bengali', 'Beverages', 'Bihari', 'Biryani', 'Bohri', 'British', 'Bubble Tea', 'Burger', 'Burmese', 'Cafe', 'Cantonese', 'Charcoal Chicken', 'Chettinad', 'Chinese', 'Coffee', 'Continental', 'Desserts', 'Drinks Only', 'European', 'Fast Food', 'Finger Food', 'French', 'German', 'Goan', 'Greek', 'Grill', 'Gujarati', 'Healthy Food', 'Hot Dogs', 'Hyderabadi', 'Ice Cream', 'Indonesian', 'Iranian', 'Italian', 'Japanese', 'Jewish', 'Juices', 'Kashmiri', 'Kebab', 'Kerala', 'Konkan', 'Korean', 'Lebanese', 'Lucknowi', 'Maharashtrian', 'Malaysian', 'Mangalorean', 'Mediterranean', 'Mexican', 'Middle Eastern', 'Mithai', 'Modern Indian', 'Momos', 'Mongolian', 'Mughlai', 'Naga', 'Nepalese', 'North Eastern', 'North Indian', 'Oriya', 'Paan', 'Pan Asian', 'Parsi', 'Pizza', 'Portuguese', 'Rajasthani', 'Raw Meats', 'Roast Chicken', 'Rolls', 'Russian', 'Salad', 'Sandwich', 'Seafood', 'Sindhi', 'Singaporean', 'South American', 'South Indian', 'Spanish', 'Sri Lankan', 'Steak', 'Street Food', 'Sushi', 'Tamil', 'Tea', 'Tex-Mex', 'Thai', 'Tibetan', 'Turkish', 'Vegan', 'Vietnamese', 'Wraps']\n"
          ]
        }
      ]
    },
    {
      "cell_type": "code",
      "source": [
        "# Define the mapping dictionary\n",
        "standardize_map = {\n",
        "   'Cantonese': 'Asian',\n",
        "    'Chinese': 'Asian',\n",
        "    'Indonesian': 'Asian',\n",
        "    'Japanese': 'Asian',\n",
        "    'Korean': 'Asian',\n",
        "    'Malaysian': 'Asian',\n",
        "    'Mongolian': 'Asian',\n",
        "    'Nepalese': 'Asian',\n",
        "    'Pan Asian': 'Asian',\n",
        "    'Singaporean': 'Asian',\n",
        "    'Sri Lankan': 'Asian',\n",
        "    'Thai': 'Asian',\n",
        "    'Tibetan': 'Asian',\n",
        "    'Vietnamese': 'Asian',\n",
        "    'Burmese': 'Asian',\n",
        "    'Sushi': 'Asian',\n",
        "\n",
        "    # Bakery (includes Desserts)\n",
        "    'Bakery': 'Bakery',\n",
        "    'Desserts': 'Bakery',\n",
        "    'Ice Cream': 'Bakery',\n",
        "    'Mithai': 'Bakery',\n",
        "\n",
        "    # Cafe\n",
        "    'Beverages': 'Cafe',\n",
        "    'Bubble Tea': 'Cafe',\n",
        "    'Cafe': 'Cafe',\n",
        "    'Coffee': 'Cafe',\n",
        "    'Drinks Only': 'Cafe',\n",
        "    'Juices': 'Cafe',\n",
        "    'Tea': 'Cafe',\n",
        "\n",
        "    # European\n",
        "    'American': 'European',\n",
        "    'Australian': 'European',\n",
        "    'Belgian': 'European',\n",
        "    'British': 'European',\n",
        "    'French': 'European',\n",
        "    'German': 'European',\n",
        "    'Greek': 'European',\n",
        "    'Italian': 'European',\n",
        "    'Portuguese': 'European',\n",
        "    'Russian': 'European',\n",
        "    'Spanish': 'European',\n",
        "    'Turkish': 'European',\n",
        "\n",
        "    # Fast Food\n",
        "    'Bar Food': 'Fast Food',\n",
        "    'Bbq': 'Fast Food',\n",
        "    'Burger': 'Fast Food',\n",
        "    'Charcoal Chicken': 'Fast Food',\n",
        "    'Finger Food': 'Fast Food',\n",
        "    'Grill': 'Fast Food',\n",
        "    'Hot Dogs': 'Fast Food',\n",
        "    'Pizza': 'Fast Food',\n",
        "    'Roast Chicken': 'Fast Food',\n",
        "    'Rolls': 'Fast Food',\n",
        "    'Sandwich': 'Fast Food',\n",
        "    'Steak': 'Fast Food',\n",
        "    'Wraps': 'Fast Food',\n",
        "    'Momos': 'Fast Food',\n",
        "    'Street Food': 'Fast Food',\n",
        "\n",
        "    # Healthy Food\n",
        "    'Healthy Food': 'Healthy Food',\n",
        "    'Salad': 'Healthy Food',\n",
        "    'Vegan': 'Healthy Food',\n",
        "\n",
        "    # Middle Eastern\n",
        "    'Afghan': 'Middle Eastern',\n",
        "    'Afghani': 'Middle Eastern',\n",
        "    'African': 'Middle Eastern',\n",
        "    'Arabian': 'Middle Eastern',\n",
        "    'Iranian': 'Middle Eastern',\n",
        "    'Jewish': 'Middle Eastern',\n",
        "    'Lebanese': 'Middle Eastern',\n",
        "    'Mediterranean': 'Middle Eastern',\n",
        "    'Middle Eastern': 'Middle Eastern',\n",
        "\n",
        "    # North Eastern\n",
        "    'Naga': 'North Eastern',\n",
        "    'North Eastern': 'North Eastern',\n",
        "\n",
        "    # North Indian\n",
        "    'Awadhi': 'North Indian',\n",
        "    'Assamese': 'North Indian',\n",
        "    'Bihari': 'North Indian',\n",
        "    'Biryani': 'North Indian',\n",
        "    'Bengali': 'North Indian',\n",
        "    'Gujarati': 'North Indian',\n",
        "    'Hyderabadi': 'North Indian',\n",
        "    'Kashmiri': 'North Indian',\n",
        "    'Lucknowi': 'North Indian',\n",
        "    'Maharashtrian': 'North Indian',\n",
        "    'Mughlai': 'North Indian',\n",
        "    'Oriya': 'North Indian',\n",
        "    'Parsi': 'North Indian',\n",
        "    'Rajasthani': 'North Indian',\n",
        "    'Sindhi': 'North Indian',\n",
        "    'Paan': 'North Indian',\n",
        "   'Modern Indian': 'North Indian',\n",
        "\n",
        "    # South Indian\n",
        "    'Andhra': 'South Indian',\n",
        "    'Chettinad': 'South Indian',\n",
        "    'Kerala': 'South Indian',\n",
        "    'Konkan': 'South Indian',\n",
        "    'Mangalorean': 'South Indian',\n",
        "    'South Indian': 'South Indian',\n",
        "    'Tamil': 'South Indian',\n",
        "\n",
        "    # Raw Meats\n",
        "    'Bohri': 'Raw Meats',\n",
        "    'Goan': 'Raw Meats',\n",
        "    'Kebab': 'Raw Meats',\n",
        "    'Raw Meats': 'Raw Meats',\n",
        "    'Seafood': 'Raw Meats',\n",
        "   'Other Meats':'Raw Meats',\n",
        "\n",
        "    # South American\n",
        "    'Mexican': 'South American',\n",
        "    'South American': 'South American',\n",
        "    'Tex-Mex': 'South American',\n",
        "}\n",
        "\n",
        "def standardize_cuisine(c):\n",
        "    return standardize_map.get(c, c)  # Return mapped value if exists, else original\n",
        "\n",
        "# Apply after exploding and stripping\n",
        "df_expand['cuisines'] = df_expand['cuisines'].apply(standardize_cuisine)\n",
        "df_expand['cuisines'].unique()\n"
      ],
      "metadata": {
        "colab": {
          "base_uri": "https://localhost:8080/"
        },
        "id": "2YjqhiYsHu-W",
        "outputId": "9bfb67f5-dc10-41be-b10c-b9a83fb13027"
      },
      "execution_count": null,
      "outputs": [
        {
          "output_type": "execute_result",
          "data": {
            "text/plain": [
              "array(['North Indian', 'Asian', 'Cafe', 'South American', 'European',\n",
              "       'South Indian', 'Fast Food', 'Continental', 'Bakery',\n",
              "       'Healthy Food', 'Raw Meats', 'Middle Eastern', 'North Eastern'],\n",
              "      dtype=object)"
            ]
          },
          "metadata": {},
          "execution_count": 122
        }
      ]
    },
    {
      "cell_type": "markdown",
      "source": [
        "Convert columns to appropriate data types"
      ],
      "metadata": {
        "id": "Rf8vbO9V9j1a"
      }
    },
    {
      "cell_type": "code",
      "source": [
        "df['approx_cost(for two people)'] = df['approx_cost(for two people)'].astype(int)\n",
        "df['approx_cost(for two people)'].unique() #No invalid format"
      ],
      "metadata": {
        "colab": {
          "base_uri": "https://localhost:8080/"
        },
        "id": "_OPXlA2oy4vd",
        "outputId": "4defc72d-279d-4811-c2d6-4d3e5a485044"
      },
      "execution_count": null,
      "outputs": [
        {
          "output_type": "execute_result",
          "data": {
            "text/plain": [
              "array([ 800,  300,  600,  700,  550,  500,  450,  650,  400,  900,  200,\n",
              "        750,  150,  850,  100, 1200,  350,  250,  950, 1000, 1500, 1300,\n",
              "        199, 1100, 1600,  230,  130, 1700, 1350, 2200, 1400, 2000, 1800,\n",
              "       1900,  180,  330, 2500, 2100, 3000, 2800, 3400,   50,   40, 1250,\n",
              "       3500, 4000, 2400, 2600, 1450,   70, 3200,  240, 6000, 1050, 2300,\n",
              "       4100,  120, 5000, 3700, 1650, 2700, 4500,   80])"
            ]
          },
          "metadata": {},
          "execution_count": 123
        }
      ]
    },
    {
      "cell_type": "code",
      "source": [
        "df['Rating'] = df['Rating'].astype(float)\n",
        "df['Rating'].unique() # No rating above 5 or any invalid format"
      ],
      "metadata": {
        "colab": {
          "base_uri": "https://localhost:8080/"
        },
        "id": "NRgTbTcu-JQC",
        "outputId": "2b3b0441-c278-4510-d63d-ed68d56d5d8b"
      },
      "execution_count": null,
      "outputs": [
        {
          "output_type": "execute_result",
          "data": {
            "text/plain": [
              "array([4.1, 3.8, 3.7, 3.6, 4.6, 4. , 4.2, 3.9, 3.1, 3. , 3.2, 3.3, 2.8,\n",
              "       4.4, 4.3, 2.9, 3.5, 2.6, 3.4, 4.5, 2.5, 2.7, 4.7, 2.4, 2.2, 2.3,\n",
              "       4.8, 4.9, 2.1, 2. , 1.8])"
            ]
          },
          "metadata": {},
          "execution_count": 124
        }
      ]
    },
    {
      "cell_type": "code",
      "source": [
        "df['votes'] = df['votes'].astype(int)\n",
        "df['votes'].unique() #no invalid format"
      ],
      "metadata": {
        "colab": {
          "base_uri": "https://localhost:8080/"
        },
        "id": "CNY_AkHVAGzi",
        "outputId": "9dbb9a1d-32e7-4d98-c7da-a7f56d8c658c"
      },
      "execution_count": null,
      "outputs": [
        {
          "output_type": "execute_result",
          "data": {
            "text/plain": [
              "array([ 775,  787,  918, ..., 4957, 2382,  843])"
            ]
          },
          "metadata": {},
          "execution_count": 125
        }
      ]
    },
    {
      "cell_type": "markdown",
      "source": [
        "Save the cleaned and structured dataset for analysis."
      ],
      "metadata": {
        "id": "Tz0pRzMVC4Qu"
      }
    },
    {
      "cell_type": "code",
      "source": [
        "df.to_csv('Zomato.csv', index=False)"
      ],
      "metadata": {
        "id": "TLX8mRe0C2rB"
      },
      "execution_count": null,
      "outputs": []
    },
    {
      "cell_type": "markdown",
      "source": [
        "Group data by cuisine and calculate average ratings, votes, and price range."
      ],
      "metadata": {
        "id": "TIatDi-sDBsS"
      }
    },
    {
      "cell_type": "code",
      "source": [
        "grouped_df = df_expand.groupby('cuisines')[['Rating', 'votes', 'approx_cost(for two people)']].mean().reset_index()\n",
        "print(grouped_df)\n"
      ],
      "metadata": {
        "colab": {
          "base_uri": "https://localhost:8080/"
        },
        "id": "N5P9NH9DDBPH",
        "outputId": "91b08262-a5b9-490c-b4d2-3a1398ec1159"
      },
      "execution_count": null,
      "outputs": [
        {
          "output_type": "stream",
          "name": "stdout",
          "text": [
            "          cuisines    Rating        votes  approx_cost(for two people)\n",
            "0            Asian  3.711037   438.912289                   759.995480\n",
            "1           Bakery  3.791363   213.676718                   409.808830\n",
            "2             Cafe  3.838630   410.219772                   539.397480\n",
            "3      Continental  3.962046   833.909846                  1047.412355\n",
            "4         European  4.015979  1059.292468                  1023.855598\n",
            "5        Fast Food  3.748201   459.735150                   583.094983\n",
            "6     Healthy Food  3.992580   774.219313                   821.058374\n",
            "7   Middle Eastern  3.845470   735.345964                   889.758375\n",
            "8    North Eastern  4.024194   334.838710                   725.806452\n",
            "9     North Indian  3.636973   375.748083                   638.808599\n",
            "10       Raw Meats  3.764193   497.604027                   737.603632\n",
            "11  South American  3.940257   754.994485                   888.823529\n",
            "12    South Indian  3.621115   240.058788                   528.852072\n"
          ]
        }
      ]
    },
    {
      "cell_type": "markdown",
      "source": [
        "Identify top cuisines based on ratings and popularity (votes)."
      ],
      "metadata": {
        "id": "Sv2pX18Yck2m"
      }
    },
    {
      "cell_type": "code",
      "source": [
        "top_rated = grouped_df.sort_values(by='Rating', ascending=False).head(10)\n",
        "print(\"Top 10 cuisines by Rating:\")\n",
        "print(top_rated)"
      ],
      "metadata": {
        "colab": {
          "base_uri": "https://localhost:8080/"
        },
        "id": "iqCapxwJcpq8",
        "outputId": "d1d0cbd0-008a-42b5-c442-00d82c439751"
      },
      "execution_count": null,
      "outputs": [
        {
          "output_type": "stream",
          "name": "stdout",
          "text": [
            "Top 10 cuisines by Rating:\n",
            "          cuisines    Rating        votes  approx_cost(for two people)\n",
            "8    North Eastern  4.024194   334.838710                   725.806452\n",
            "4         European  4.015979  1059.292468                  1023.855598\n",
            "6     Healthy Food  3.992580   774.219313                   821.058374\n",
            "3      Continental  3.962046   833.909846                  1047.412355\n",
            "11  South American  3.940257   754.994485                   888.823529\n",
            "7   Middle Eastern  3.845470   735.345964                   889.758375\n",
            "2             Cafe  3.838630   410.219772                   539.397480\n",
            "1           Bakery  3.791363   213.676718                   409.808830\n",
            "10       Raw Meats  3.764193   497.604027                   737.603632\n",
            "5        Fast Food  3.748201   459.735150                   583.094983\n"
          ]
        }
      ]
    },
    {
      "cell_type": "code",
      "source": [
        "top_popular = grouped_df.sort_values(by='votes', ascending=False).head(10)\n",
        "print(\"\\nTop 10 cuisines by Votes:\")\n",
        "print(top_popular)"
      ],
      "metadata": {
        "colab": {
          "base_uri": "https://localhost:8080/"
        },
        "id": "3o-TSeZTc8vM",
        "outputId": "704a2243-7a59-4a94-d9fb-9a71c517e2a3"
      },
      "execution_count": null,
      "outputs": [
        {
          "output_type": "stream",
          "name": "stdout",
          "text": [
            "\n",
            "Top 10 cuisines by Votes:\n",
            "          cuisines    Rating        votes  approx_cost(for two people)\n",
            "4         European  4.015979  1059.292468                  1023.855598\n",
            "3      Continental  3.962046   833.909846                  1047.412355\n",
            "6     Healthy Food  3.992580   774.219313                   821.058374\n",
            "11  South American  3.940257   754.994485                   888.823529\n",
            "7   Middle Eastern  3.845470   735.345964                   889.758375\n",
            "10       Raw Meats  3.764193   497.604027                   737.603632\n",
            "5        Fast Food  3.748201   459.735150                   583.094983\n",
            "0            Asian  3.711037   438.912289                   759.995480\n",
            "2             Cafe  3.838630   410.219772                   539.397480\n",
            "9     North Indian  3.636973   375.748083                   638.808599\n"
          ]
        }
      ]
    },
    {
      "cell_type": "code",
      "source": [
        "top_combined = grouped_df.sort_values(by=['Rating', 'votes'], ascending=[False, False]).head(10)\n",
        "print(\"\\nTop 10 cuisines by Rating and Votes combined:\")\n",
        "print(top_combined)"
      ],
      "metadata": {
        "colab": {
          "base_uri": "https://localhost:8080/"
        },
        "id": "e9o1MwOsdCWC",
        "outputId": "62382684-8d7d-4ce1-fbbb-ee575aff31a4"
      },
      "execution_count": null,
      "outputs": [
        {
          "output_type": "stream",
          "name": "stdout",
          "text": [
            "\n",
            "Top 10 cuisines by Rating and Votes combined:\n",
            "          cuisines    Rating        votes  approx_cost(for two people)\n",
            "8    North Eastern  4.024194   334.838710                   725.806452\n",
            "4         European  4.015979  1059.292468                  1023.855598\n",
            "6     Healthy Food  3.992580   774.219313                   821.058374\n",
            "3      Continental  3.962046   833.909846                  1047.412355\n",
            "11  South American  3.940257   754.994485                   888.823529\n",
            "7   Middle Eastern  3.845470   735.345964                   889.758375\n",
            "2             Cafe  3.838630   410.219772                   539.397480\n",
            "1           Bakery  3.791363   213.676718                   409.808830\n",
            "10       Raw Meats  3.764193   497.604027                   737.603632\n",
            "5        Fast Food  3.748201   459.735150                   583.094983\n"
          ]
        }
      ]
    },
    {
      "cell_type": "markdown",
      "source": [
        "Highlight best-rated restaurants and link them to their cuisine types"
      ],
      "metadata": {
        "id": "pU6xTq0SdxkS"
      }
    },
    {
      "cell_type": "code",
      "source": [
        "top_restaurants = df_expand.sort_values(by=['Rating', 'votes'], ascending=False)\n",
        "top_restaurants = top_restaurants.drop_duplicates(subset=['name'])\n",
        "top_5 = top_restaurants[['name', 'cuisines', 'Rating', 'votes']].head(5)\n",
        "print(top_5)\n",
        "\n"
      ],
      "metadata": {
        "colab": {
          "base_uri": "https://localhost:8080/"
        },
        "id": "Ec1YAqdYdItZ",
        "outputId": "42b5f884-4108-483c-dae5-58eed973ff20"
      },
      "execution_count": null,
      "outputs": [
        {
          "output_type": "stream",
          "name": "stdout",
          "text": [
            "                                 name     cuisines  Rating  votes\n",
            "39351     Byg Brewski Brewing Company  Continental     4.9  16832\n",
            "29464       Ab'S - Absolute Barbecues     European     4.9   6490\n",
            "40734                        Flechazo        Asian     4.9   3004\n",
            "29835  Asia Kitchen By Mainland China        Asian     4.9   2256\n",
            "14583                Milano Ice Cream       Bakery     4.9   2090\n"
          ]
        }
      ]
    },
    {
      "cell_type": "markdown",
      "source": [
        "Analyse and generate insights into user preferences by cuisine."
      ],
      "metadata": {
        "id": "Ex4HaFxSgFSi"
      }
    },
    {
      "cell_type": "code",
      "source": [
        "cuisine_insights = df_expand.groupby('cuisines')[['Rating', 'votes']] \\\n",
        "                            .agg(['mean', 'count']).reset_index()\n",
        "cuisine_insights.columns = ['Cuisine', 'Avg_Rating', 'Rating_Count', 'Avg_Votes', 'Votes_Count']\n",
        "cuisine_insights_sorted = cuisine_insights.sort_values(by='Avg_Rating', ascending=False)\n",
        "print(cuisine_insights_sorted.head(15))\n"
      ],
      "metadata": {
        "colab": {
          "base_uri": "https://localhost:8080/"
        },
        "id": "GN8-K_HyheoF",
        "outputId": "7fa64f77-f1f4-4ea7-8e07-c2b38bfec7e1"
      },
      "execution_count": null,
      "outputs": [
        {
          "output_type": "stream",
          "name": "stdout",
          "text": [
            "           Cuisine  Avg_Rating  Rating_Count    Avg_Votes  Votes_Count\n",
            "8    North Eastern    4.024194            62   334.838710           62\n",
            "4         European    4.015979          5457  1059.292468         5457\n",
            "6     Healthy Food    3.992580          1833   774.219313         1833\n",
            "3      Continental    3.962046          5180   833.909846         5180\n",
            "11  South American    3.940257           544   754.994485          544\n",
            "7   Middle Eastern    3.845470          1821   735.345964         1821\n",
            "2             Cafe    3.838630          9842   410.219772         9842\n",
            "1           Bakery    3.791363          8788   213.676718         8788\n",
            "10       Raw Meats    3.764193          2533   497.604027         2533\n",
            "5        Fast Food    3.748201         17761   459.735150        17761\n",
            "0            Asian    3.711037         16372   438.912289        16372\n",
            "9     North Indian    3.636973         25167   375.748083        25167\n",
            "12    South Indian    3.621115          9917   240.058788         9917\n"
          ]
        }
      ]
    },
    {
      "cell_type": "markdown",
      "source": [
        "Visualise key findings using Matplotlib."
      ],
      "metadata": {
        "id": "3Q5zruYgiTyh"
      }
    },
    {
      "cell_type": "code",
      "source": [
        "import matplotlib.pyplot as plt\n",
        "top_rated = cuisine_insights.sort_values(by='Avg_Rating', ascending=False).head(15)\n",
        "plt.figure(figsize=(8, 5))\n",
        "plt.barh(top_rated['Cuisine'], top_rated['Avg_Rating'], color='purple')\n",
        "plt.xlabel('Average Rating')\n",
        "plt.title('Cuisines by Average Rating')\n",
        "plt.xlim(3.5, 4.1)\n",
        "plt.tight_layout()\n",
        "plt.show()"
      ],
      "metadata": {
        "colab": {
          "base_uri": "https://localhost:8080/",
          "height": 507
        },
        "id": "QG89PwIOiOzc",
        "outputId": "b42d9c79-668d-4337-8882-3a02eb290c89"
      },
      "execution_count": null,
      "outputs": [
        {
          "output_type": "display_data",
          "data": {
            "text/plain": [
              "<Figure size 800x500 with 1 Axes>"
            ],
            "image/png": "[encoded data removed]"
          },
          "metadata": {}
        }
      ]
    },
    {
      "cell_type": "code",
      "source": [
        "top_voted = cuisine_insights.sort_values(by='Avg_Votes', ascending=False).head(15)\n",
        "plt.figure(figsize=(10, 6))\n",
        "plt.barh(top_voted['Cuisine'], top_voted['Avg_Votes'], color='bla')\n",
        "plt.xlabel('Average Votes')\n",
        "plt.title('Top 10 Most Popular Cuisines by Votes')\n",
        "plt.show()"
      ],
      "metadata": {
        "colab": {
          "base_uri": "https://localhost:8080/",
          "height": 564
        },
        "id": "USX0M848jZX5",
        "outputId": "15d7f58b-97e7-475c-f2ad-7ca7ba339c21"
      },
      "execution_count": null,
      "outputs": [
        {
          "output_type": "display_data",
          "data": {
            "text/plain": [
              "<Figure size 1000x600 with 1 Axes>"
            ],
            "image/png": "[encoded data removed]"
          },
          "metadata": {}
        }
      ]
    }
  ]
}