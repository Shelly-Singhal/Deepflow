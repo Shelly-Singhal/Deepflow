{
  "nbformat": 4,
  "nbformat_minor": 0,
  "metadata": {
    "colab": {
      "provenance": [],
      "toc_visible": true,
      "gpuType": "V28"
    },
    "kernelspec": {
      "name": "python3",
      "display_name": "Python 3"
    },
    "language_info": {
      "name": "python"
    },
    "accelerator": "TPU"
  },
  "cells": [
    {
      "cell_type": "code",
      "execution_count": 2,
      "metadata": {
        "colab": {
          "base_uri": "https://localhost:8080/"
        },
        "id": "4Ov298FvIgNI",
        "outputId": "4921434e-7f85-4a7c-c942-93613151a57c"
      },
      "outputs": [
        {
          "output_type": "stream",
          "name": "stdout",
          "text": [
            "Requirement already satisfied: pandas in /usr/local/lib/python3.11/dist-packages (2.2.2)\n",
            "Requirement already satisfied: scikit-learn in /usr/local/lib/python3.11/dist-packages (1.6.1)\n",
            "Collecting xgboost\n",
            "  Downloading xgboost-3.0.2-py3-none-manylinux_2_28_x86_64.whl.metadata (2.1 kB)\n",
            "Collecting openpyxl\n",
            "  Downloading openpyxl-3.1.5-py2.py3-none-any.whl.metadata (2.5 kB)\n",
            "Requirement already satisfied: numpy>=1.23.2 in /usr/local/lib/python3.11/dist-packages (from pandas) (2.0.2)\n",
            "Requirement already satisfied: python-dateutil>=2.8.2 in /usr/local/lib/python3.11/dist-packages (from pandas) (2.9.0.post0)\n",
            "Requirement already satisfied: pytz>=2020.1 in /usr/local/lib/python3.11/dist-packages (from pandas) (2025.2)\n",
            "Requirement already satisfied: tzdata>=2022.7 in /usr/local/lib/python3.11/dist-packages (from pandas) (2025.2)\n",
            "Requirement already satisfied: scipy>=1.6.0 in /usr/local/lib/python3.11/dist-packages (from scikit-learn) (1.15.3)\n",
            "Requirement already satisfied: joblib>=1.2.0 in /usr/local/lib/python3.11/dist-packages (from scikit-learn) (1.5.1)\n",
            "Requirement already satisfied: threadpoolctl>=3.1.0 in /usr/local/lib/python3.11/dist-packages (from scikit-learn) (3.6.0)\n",
            "Collecting nvidia-nccl-cu12 (from xgboost)\n",
            "  Downloading nvidia_nccl_cu12-2.27.3-py3-none-manylinux2014_x86_64.manylinux_2_17_x86_64.whl.metadata (2.0 kB)\n",
            "Collecting et-xmlfile (from openpyxl)\n",
            "  Downloading et_xmlfile-2.0.0-py3-none-any.whl.metadata (2.7 kB)\n",
            "Requirement already satisfied: six>=1.5 in /usr/local/lib/python3.11/dist-packages (from python-dateutil>=2.8.2->pandas) (1.17.0)\n",
            "Downloading xgboost-3.0.2-py3-none-manylinux_2_28_x86_64.whl (253.9 MB)\n",
            "\u001b[2K   \u001b[90m━━━━━━━━━━━━━━━━━━━━━━━━━━━━━━━━━━━━━━━━\u001b[0m \u001b[32m253.9/253.9 MB\u001b[0m \u001b[31m4.3 MB/s\u001b[0m eta \u001b[36m0:00:00\u001b[0m\n",
            "\u001b[?25hDownloading openpyxl-3.1.5-py2.py3-none-any.whl (250 kB)\n",
            "\u001b[2K   \u001b[90m━━━━━━━━━━━━━━━━━━━━━━━━━━━━━━━━━━━━━━━━\u001b[0m \u001b[32m250.9/250.9 kB\u001b[0m \u001b[31m19.0 MB/s\u001b[0m eta \u001b[36m0:00:00\u001b[0m\n",
            "\u001b[?25hDownloading et_xmlfile-2.0.0-py3-none-any.whl (18 kB)\n",
            "Downloading nvidia_nccl_cu12-2.27.3-py3-none-manylinux2014_x86_64.manylinux_2_17_x86_64.whl (322.4 MB)\n",
            "\u001b[2K   \u001b[90m━━━━━━━━━━━━━━━━━━━━━━━━━━━━━━━━━━━━━━━━\u001b[0m \u001b[32m322.4/322.4 MB\u001b[0m \u001b[31m3.4 MB/s\u001b[0m eta \u001b[36m0:00:00\u001b[0m\n",
            "\u001b[?25hInstalling collected packages: nvidia-nccl-cu12, et-xmlfile, xgboost, openpyxl\n",
            "Successfully installed et-xmlfile-2.0.0 nvidia-nccl-cu12-2.27.3 openpyxl-3.1.5 xgboost-3.0.2\n"
          ]
        }
      ],
      "source": [
        "pip install pandas scikit-learn xgboost openpyxl"
      ]
    },
    {
      "cell_type": "code",
      "source": [
        "import pandas as pd\n",
        "import numpy as np\n",
        "from sklearn.model_selection import train_test_split\n",
        "from sklearn.metrics import mean_squared_log_error\n",
        "from sklearn.linear_model import LinearRegression\n",
        "from sklearn.ensemble import RandomForestRegressor\n",
        "from xgboost import XGBRegressor\n",
        "import warnings\n",
        "warnings.filterwarnings(\"ignore\")\n",
        "\n",
        "# Step 1: Load Data\n",
        "train = pd.read_csv(\"Train.csv\", low_memory=False)\n",
        "\n",
        "#  Step 2: Initial Cleaning\n",
        "train = train.loc[:, train.isnull().mean() < 0.9]  # Drop columns with >90% missing\n",
        "train.drop(columns=['SalesID', 'MachineID', 'ModelID'], inplace=True, errors='ignore')  # Drop IDs\n",
        "\n",
        "# Parse saledate\n",
        "train['saledate'] = pd.to_datetime(train['saledate'], errors='coerce')\n",
        "train['sale_year'] = train['saledate'].dt.year\n",
        "train['sale_month'] = train['saledate'].dt.month\n",
        "train['sale_dayofweek'] = train['saledate'].dt.dayofweek\n",
        "train.drop(columns='saledate', inplace=True)\n",
        "\n",
        "# Step 3: Handle NaNs\n",
        "for col in train.select_dtypes(include='number').columns:\n",
        "    train[col] = train[col].fillna(train[col].median())\n",
        "\n",
        "for col in train.select_dtypes(include='object').columns:\n",
        "    train[col] = train[col].astype(str).str.lower().str.strip()\n",
        "    train[col] = train[col].replace({'#####': np.nan, 'nan': np.nan, 'none': np.nan, '': np.nan})\n",
        "    train[col] = train[col].fillna(train[col].mode()[0])\n",
        "    freq = train[col].value_counts()\n",
        "    rare = freq[freq < 50].index\n",
        "    train[col] = train[col].apply(lambda x: 'other' if x in rare else x)\n",
        "\n",
        "# Step 4: Encode categoricals\n",
        "train = pd.get_dummies(train, drop_first=True)\n",
        "\n",
        "# Step 5: Handle outliers\n",
        "def cap_outliers(series):\n",
        "    q1 = series.quantile(0.25)\n",
        "    q3 = series.quantile(0.75)\n",
        "    iqr = q3 - q1\n",
        "    lower = q1 - 1.5 * iqr\n",
        "    upper = q3 + 1.5 * iqr\n",
        "    return series.clip(lower, upper)\n",
        "\n",
        "for col in train.select_dtypes(include='number').columns:\n",
        "    if col != 'SalePrice':\n",
        "        train[col] = cap_outliers(train[col])\n",
        "\n",
        "#  Step 6: Train/Validation Split\n",
        "X = train.drop(columns='SalePrice')\n",
        "y = train['SalePrice']\n",
        "X_train, X_val, y_train, y_val = train_test_split(X, y, test_size=0.2, random_state=42)"
      ],
      "metadata": {
        "id": "2RhZsVOFJfzK"
      },
      "execution_count": 7,
      "outputs": []
    },
    {
      "cell_type": "code",
      "source": [
        "def calculate_rmsle(y_true, y_pred):\n",
        "    y_true = np.clip(y_true, 1, None)\n",
        "    y_pred = np.clip(y_pred, 1, None)\n",
        "    return np.sqrt(np.mean((np.log1p(y_pred) - np.log1p(y_true)) ** 2))"
      ],
      "metadata": {
        "id": "T1zWp_eBJvIx"
      },
      "execution_count": 9,
      "outputs": []
    },
    {
      "cell_type": "code",
      "source": [
        "linreg = LinearRegression()\n",
        "linreg.fit(X_train, y_train)\n",
        "preds_lr = linreg.predict(X_val)\n",
        "rmsle_lr = calculate_rmsle(y_val, preds_lr)\n",
        "print(f\"📈 Linear Regression RMSLE: {rmsle_lr:.4f}\")"
      ],
      "metadata": {
        "colab": {
          "base_uri": "https://localhost:8080/"
        },
        "id": "fiYWZIpQJ6Ss",
        "outputId": "6315ad44-5d8c-4a04-af5b-167887798db0"
      },
      "execution_count": 10,
      "outputs": [
        {
          "output_type": "stream",
          "name": "stdout",
          "text": [
            "📈 Linear Regression RMSLE: 0.8162\n"
          ]
        }
      ]
    },
    {
      "cell_type": "code",
      "source": [
        "rf = RandomForestRegressor(\n",
        "    n_estimators=100,\n",
        "    max_features='sqrt',\n",
        "    max_depth=64,\n",
        "    n_jobs=-1,\n",
        "    random_state=42\n",
        ")\n",
        "rf.fit(X_train, y_train)\n",
        "preds_rf = rf.predict(X_val)\n",
        "rmsle_rf = calculate_rmsle(y_val, preds_rf)\n",
        "print(f\"Random Forest RMSLE: {rmsle_rf:.4f}\")"
      ],
      "metadata": {
        "colab": {
          "base_uri": "https://localhost:8080/"
        },
        "id": "HS2asvROKGdi",
        "outputId": "ce2700d9-7e45-4c08-a93c-d8f4eab1382d"
      },
      "execution_count": 22,
      "outputs": [
        {
          "output_type": "stream",
          "name": "stdout",
          "text": [
            " Random Forest RMSLE: 0.2581\n"
          ]
        }
      ]
    },
    {
      "cell_type": "code",
      "source": [
        "xgb = XGBRegressor(\n",
        "    n_estimators=100,\n",
        "    tree_method='hist',\n",
        "    max_depth=15,\n",
        "    learning_rate=0.1,\n",
        "    n_jobs=-1,\n",
        "    verbosity=0,\n",
        "    random_state=42\n",
        ")\n",
        "xgb.fit(X_train, y_train)\n",
        "preds_xgb = xgb.predict(X_val)\n",
        "rmsle_xgb = calculate_rmsle(y_val, preds_xgb)\n",
        "print(f\"XGBoost RMSLE: {rmsle_xgb:.4f}\")\n"
      ],
      "metadata": {
        "colab": {
          "base_uri": "https://localhost:8080/"
        },
        "id": "6H1VAUvTKJrB",
        "outputId": "92d064ee-1b02-4fa4-f97a-2f8587a85431"
      },
      "execution_count": 23,
      "outputs": [
        {
          "output_type": "stream",
          "name": "stdout",
          "text": [
            "XGBoost RMSLE: 0.2218\n"
          ]
        }
      ]
    },
    {
      "cell_type": "code",
      "source": [
        "final_model = XGBRegressor(n_estimators=30,max_depth=15,random_state=42, verbosity=0)\n",
        "final_model.fit(X, y)\n",
        "\n",
        "# Load test data\n",
        "test = pd.read_csv(\"Test.csv\")\n",
        "sales_ids = test['SalesID']  # Save IDs\n",
        "\n",
        "# Repeat cleaning for test\n",
        "test.drop(columns=['SalesID', 'MachineID', 'ModelID'], inplace=True, errors='ignore')\n",
        "test['saledate'] = pd.to_datetime(test['saledate'], errors='coerce')\n",
        "test['sale_year'] = test['saledate'].dt.year\n",
        "test['sale_month'] = test['saledate'].dt.month\n",
        "test['sale_dayofweek'] = test['saledate'].dt.dayofweek\n",
        "test.drop(columns='saledate', inplace=True)\n",
        "\n",
        "for col in test.select_dtypes(include='number').columns:\n",
        "    test[col] = test[col].fillna(test[col].median())\n",
        "\n",
        "for col in test.select_dtypes(include='object').columns:\n",
        "    test[col] = test[col].astype(str).str.lower().str.strip()\n",
        "    test[col] = test[col].replace({'#####': np.nan, 'nan': np.nan, 'none': np.nan, '': np.nan})\n",
        "    test[col] = test[col].fillna(test[col].mode()[0])\n",
        "    freq = test[col].value_counts()\n",
        "    rare = freq[freq < 50].index\n",
        "    test[col] = test[col].apply(lambda x: 'other' if x in rare else x)\n",
        "\n",
        "# Match columns\n",
        "test = pd.get_dummies(test)\n",
        "test = test.reindex(columns=X.columns, fill_value=0)\n",
        "\n",
        "# Predict\n",
        "predictions = final_model.predict(test)\n",
        "predictions = np.maximum(predictions, 0)  # ensure no negative prices\n",
        "\n",
        "# Save output\n",
        "output_df = pd.DataFrame({\n",
        "    'SalesID': sales_ids,\n",
        "    'SalePrice': predictions\n",
        "})\n",
        "output_df.to_csv(\"test_predictions.csv\", index=False)\n",
        "print(\"✅ test_predictions.csv saved.\")"
      ],
      "metadata": {
        "colab": {
          "base_uri": "https://localhost:8080/"
        },
        "id": "WatdZ_g9KYy_",
        "outputId": "325f1ad3-a60a-4f7e-9903-757d895bb999"
      },
      "execution_count": 4,
      "outputs": [
        {
          "output_type": "stream",
          "name": "stdout",
          "text": [
            "✅ test_predictions.csv saved.\n"
          ]
        }
      ]
    },
    {
      "cell_type": "code",
      "source": [
        "from google.colab import files\n",
        "files.download(\"test_predictions.csv\")"
      ],
      "metadata": {
        "colab": {
          "base_uri": "https://localhost:8080/",
          "height": 17
        },
        "id": "C743N_SaYuZY",
        "outputId": "dfb83cd5-dd9e-41c8-9475-ecbb07c6137f"
      },
      "execution_count": 20,
      "outputs": [
        {
          "output_type": "display_data",
          "data": {
            "text/plain": [
              "<IPython.core.display.Javascript object>"
            ],
            "application/javascript": [
              "\n",
              "    async function download(id, filename, size) {\n",
              "      if (!google.colab.kernel.accessAllowed) {\n",
              "        return;\n",
              "      }\n",
              "      const div = document.createElement('div');\n",
              "      const label = document.createElement('label');\n",
              "      label.textContent = `Downloading \"${filename}\": `;\n",
              "      div.appendChild(label);\n",
              "      const progress = document.createElement('progress');\n",
              "      progress.max = size;\n",
              "      div.appendChild(progress);\n",
              "      document.body.appendChild(div);\n",
              "\n",
              "      const buffers = [];\n",
              "      let downloaded = 0;\n",
              "\n",
              "      const channel = await google.colab.kernel.comms.open(id);\n",
              "      // Send a message to notify the kernel that we're ready.\n",
              "      channel.send({})\n",
              "\n",
              "      for await (const message of channel.messages) {\n",
              "        // Send a message to notify the kernel that we're ready.\n",
              "        channel.send({})\n",
              "        if (message.buffers) {\n",
              "          for (const buffer of message.buffers) {\n",
              "            buffers.push(buffer);\n",
              "            downloaded += buffer.byteLength;\n",
              "            progress.value = downloaded;\n",
              "          }\n",
              "        }\n",
              "      }\n",
              "      const blob = new Blob(buffers, {type: 'application/binary'});\n",
              "      const a = document.createElement('a');\n",
              "      a.href = window.URL.createObjectURL(blob);\n",
              "      a.download = filename;\n",
              "      div.appendChild(a);\n",
              "      a.click();\n",
              "      div.remove();\n",
              "    }\n",
              "  "
            ]
          },
          "metadata": {}
        },
        {
          "output_type": "display_data",
          "data": {
            "text/plain": [
              "<IPython.core.display.Javascript object>"
            ],
            "application/javascript": [
              "download(\"download_d7916339-385e-4000-9e82-3a8f8290cffd\", \"test_predictions.csv\", 219973)"
            ]
          },
          "metadata": {}
        }
      ]
    }
  ]
}